{
 "cells": [
  {
   "cell_type": "markdown",
   "metadata": {},
   "source": [
    "### 1. Imports"
   ]
  },
  {
   "cell_type": "code",
   "execution_count": 81,
   "metadata": {},
   "outputs": [],
   "source": [
    "import numpy as np\n",
    "import pandas as pd\n",
    "import os\n",
    "import matplotlib.pyplot as plt\n",
    "%matplotlib inline\n",
    "\n",
    "from sklearn.model_selection import train_test_split\n",
    "from sklearn.metrics import mean_absolute_error\n",
    "\n",
    "import warnings\n",
    "warnings.filterwarnings('ignore')"
   ]
  },
  {
   "cell_type": "markdown",
   "metadata": {},
   "source": [
    "### 1.2 Import the data"
   ]
  },
  {
   "cell_type": "code",
   "execution_count": 82,
   "metadata": {},
   "outputs": [
    {
     "data": {
      "text/html": [
       "<div>\n",
       "<style scoped>\n",
       "    .dataframe tbody tr th:only-of-type {\n",
       "        vertical-align: middle;\n",
       "    }\n",
       "\n",
       "    .dataframe tbody tr th {\n",
       "        vertical-align: top;\n",
       "    }\n",
       "\n",
       "    .dataframe thead th {\n",
       "        text-align: right;\n",
       "    }\n",
       "</style>\n",
       "<table border=\"1\" class=\"dataframe\">\n",
       "  <thead>\n",
       "    <tr style=\"text-align: right;\">\n",
       "      <th></th>\n",
       "      <th>accel_x</th>\n",
       "      <th>accel_y</th>\n",
       "      <th>accel_z</th>\n",
       "      <th>accel_norm</th>\n",
       "      <th>attitude.roll</th>\n",
       "      <th>attitude.pitch</th>\n",
       "      <th>attitude.yaw</th>\n",
       "      <th>gravity.x</th>\n",
       "      <th>gravity.y</th>\n",
       "      <th>gravity.z</th>\n",
       "      <th>rotationRate.x</th>\n",
       "      <th>rotationRate.y</th>\n",
       "      <th>rotationRate.z</th>\n",
       "      <th>userAcceleration.x</th>\n",
       "      <th>userAcceleration.y</th>\n",
       "      <th>userAcceleration.z</th>\n",
       "      <th>subject</th>\n",
       "      <th>activity</th>\n",
       "      <th>trial</th>\n",
       "    </tr>\n",
       "    <tr>\n",
       "      <th>time</th>\n",
       "      <th></th>\n",
       "      <th></th>\n",
       "      <th></th>\n",
       "      <th></th>\n",
       "      <th></th>\n",
       "      <th></th>\n",
       "      <th></th>\n",
       "      <th></th>\n",
       "      <th></th>\n",
       "      <th></th>\n",
       "      <th></th>\n",
       "      <th></th>\n",
       "      <th></th>\n",
       "      <th></th>\n",
       "      <th></th>\n",
       "      <th></th>\n",
       "      <th></th>\n",
       "      <th></th>\n",
       "      <th></th>\n",
       "    </tr>\n",
       "  </thead>\n",
       "  <tbody>\n",
       "    <tr>\n",
       "      <th>0</th>\n",
       "      <td>-0.122085</td>\n",
       "      <td>0.626434</td>\n",
       "      <td>-0.161957</td>\n",
       "      <td>0.658448</td>\n",
       "      <td>-2.116381</td>\n",
       "      <td>-1.077507</td>\n",
       "      <td>-2.261502</td>\n",
       "      <td>-0.404768</td>\n",
       "      <td>0.880780</td>\n",
       "      <td>0.245713</td>\n",
       "      <td>-1.264215</td>\n",
       "      <td>-1.027909</td>\n",
       "      <td>-0.947909</td>\n",
       "      <td>0.282683</td>\n",
       "      <td>-0.254346</td>\n",
       "      <td>-0.407670</td>\n",
       "      <td>12</td>\n",
       "      <td>dws</td>\n",
       "      <td>11</td>\n",
       "    </tr>\n",
       "    <tr>\n",
       "      <th>1</th>\n",
       "      <td>-0.160369</td>\n",
       "      <td>0.946457</td>\n",
       "      <td>-0.288605</td>\n",
       "      <td>1.002393</td>\n",
       "      <td>-2.148154</td>\n",
       "      <td>-1.049759</td>\n",
       "      <td>-2.284278</td>\n",
       "      <td>-0.417081</td>\n",
       "      <td>0.867303</td>\n",
       "      <td>0.271686</td>\n",
       "      <td>-1.162024</td>\n",
       "      <td>-0.269118</td>\n",
       "      <td>-0.848823</td>\n",
       "      <td>0.256712</td>\n",
       "      <td>0.079154</td>\n",
       "      <td>-0.560291</td>\n",
       "      <td>12</td>\n",
       "      <td>dws</td>\n",
       "      <td>11</td>\n",
       "    </tr>\n",
       "    <tr>\n",
       "      <th>2</th>\n",
       "      <td>-0.178482</td>\n",
       "      <td>1.202301</td>\n",
       "      <td>-0.178314</td>\n",
       "      <td>1.228487</td>\n",
       "      <td>-2.153824</td>\n",
       "      <td>-1.026749</td>\n",
       "      <td>-2.297008</td>\n",
       "      <td>-0.432082</td>\n",
       "      <td>0.855621</td>\n",
       "      <td>0.284961</td>\n",
       "      <td>-0.665042</td>\n",
       "      <td>0.520170</td>\n",
       "      <td>-0.726722</td>\n",
       "      <td>0.253600</td>\n",
       "      <td>0.346680</td>\n",
       "      <td>-0.463275</td>\n",
       "      <td>12</td>\n",
       "      <td>dws</td>\n",
       "      <td>11</td>\n",
       "    </tr>\n",
       "    <tr>\n",
       "      <th>3</th>\n",
       "      <td>-0.033493</td>\n",
       "      <td>1.307663</td>\n",
       "      <td>-0.223786</td>\n",
       "      <td>1.327096</td>\n",
       "      <td>-2.142509</td>\n",
       "      <td>-1.012749</td>\n",
       "      <td>-2.290595</td>\n",
       "      <td>-0.445311</td>\n",
       "      <td>0.848291</td>\n",
       "      <td>0.286507</td>\n",
       "      <td>-0.079809</td>\n",
       "      <td>0.055322</td>\n",
       "      <td>-0.604534</td>\n",
       "      <td>0.411818</td>\n",
       "      <td>0.459372</td>\n",
       "      <td>-0.510293</td>\n",
       "      <td>12</td>\n",
       "      <td>dws</td>\n",
       "      <td>11</td>\n",
       "    </tr>\n",
       "    <tr>\n",
       "      <th>4</th>\n",
       "      <td>-0.141067</td>\n",
       "      <td>1.322677</td>\n",
       "      <td>-0.641449</td>\n",
       "      <td>1.476764</td>\n",
       "      <td>-2.130486</td>\n",
       "      <td>-1.007262</td>\n",
       "      <td>-2.274149</td>\n",
       "      <td>-0.452661</td>\n",
       "      <td>0.845372</td>\n",
       "      <td>0.283600</td>\n",
       "      <td>0.456097</td>\n",
       "      <td>-0.186877</td>\n",
       "      <td>-0.441315</td>\n",
       "      <td>0.311594</td>\n",
       "      <td>0.477305</td>\n",
       "      <td>-0.925049</td>\n",
       "      <td>12</td>\n",
       "      <td>dws</td>\n",
       "      <td>11</td>\n",
       "    </tr>\n",
       "  </tbody>\n",
       "</table>\n",
       "</div>"
      ],
      "text/plain": [
       "       accel_x   accel_y   accel_z  accel_norm  attitude.roll  attitude.pitch  \\\n",
       "time                                                                            \n",
       "0    -0.122085  0.626434 -0.161957    0.658448      -2.116381       -1.077507   \n",
       "1    -0.160369  0.946457 -0.288605    1.002393      -2.148154       -1.049759   \n",
       "2    -0.178482  1.202301 -0.178314    1.228487      -2.153824       -1.026749   \n",
       "3    -0.033493  1.307663 -0.223786    1.327096      -2.142509       -1.012749   \n",
       "4    -0.141067  1.322677 -0.641449    1.476764      -2.130486       -1.007262   \n",
       "\n",
       "      attitude.yaw  gravity.x  gravity.y  gravity.z  rotationRate.x  \\\n",
       "time                                                                  \n",
       "0        -2.261502  -0.404768   0.880780   0.245713       -1.264215   \n",
       "1        -2.284278  -0.417081   0.867303   0.271686       -1.162024   \n",
       "2        -2.297008  -0.432082   0.855621   0.284961       -0.665042   \n",
       "3        -2.290595  -0.445311   0.848291   0.286507       -0.079809   \n",
       "4        -2.274149  -0.452661   0.845372   0.283600        0.456097   \n",
       "\n",
       "      rotationRate.y  rotationRate.z  userAcceleration.x  userAcceleration.y  \\\n",
       "time                                                                           \n",
       "0          -1.027909       -0.947909            0.282683           -0.254346   \n",
       "1          -0.269118       -0.848823            0.256712            0.079154   \n",
       "2           0.520170       -0.726722            0.253600            0.346680   \n",
       "3           0.055322       -0.604534            0.411818            0.459372   \n",
       "4          -0.186877       -0.441315            0.311594            0.477305   \n",
       "\n",
       "      userAcceleration.z  subject activity  trial  \n",
       "time                                               \n",
       "0              -0.407670       12      dws     11  \n",
       "1              -0.560291       12      dws     11  \n",
       "2              -0.463275       12      dws     11  \n",
       "3              -0.510293       12      dws     11  \n",
       "4              -0.925049       12      dws     11  "
      ]
     },
     "execution_count": 82,
     "metadata": {},
     "output_type": "execute_result"
    }
   ],
   "source": [
    "path = 'dataset/A_DeviceMotion_data/'\n",
    "\n",
    "list_of_folders = os.listdir(path)\n",
    "list_of_directories = [path + i for i in list_of_folders]\n",
    "list_of_dfs = []\n",
    "\n",
    "activities = ['dws', 'ups', 'sit', 'std', 'wlk', 'jog']\n",
    "\n",
    "for i in list_of_directories:\n",
    "    if i == path + '.DS_Store':\n",
    "        continue\n",
    "\n",
    "    list_of_csv = os.listdir(i)\n",
    "    list_of_csv = [m for m in list_of_csv if m.endswith('.csv')]\n",
    "    for j in list_of_csv:\n",
    "        k = pd.read_csv(i + '/' + j).rename(columns={'Unnamed: 0': 'time'})\n",
    "        k['subject'] = int(j.split('_')[1].split('.')[0])\n",
    "        k['activity'] = i.split('/')[2].split('_')[0]\n",
    "        k['trial'] = int(i.split('/')[2].split('_')[1])\n",
    "        \n",
    "        k.insert(0, 'accel_x', k['userAcceleration.x'] + k['gravity.x'])\n",
    "        k.insert(1, 'accel_y', k['userAcceleration.y'] + k['gravity.y'])\n",
    "        k.insert(2, 'accel_z', k['userAcceleration.z'] + k['gravity.z'])\n",
    "        k.insert(3, 'accel_norm', np.sqrt(k['accel_x']**2 + k['accel_y']**2 + k['accel_z']**2))\n",
    "        list_of_dfs.append(k)\n",
    "\n",
    "df = pd.concat(list_of_dfs, ignore_index=True).set_index('time')\n",
    "\n",
    "df.head()"
   ]
  },
  {
   "cell_type": "code",
   "execution_count": 83,
   "metadata": {},
   "outputs": [
    {
     "name": "stdout",
     "output_type": "stream",
     "text": [
      "       accel_x   accel_y   accel_z  accel_norm    gyro_x    gyro_y    gyro_z\n",
      "time                                                                        \n",
      "0    -0.122085  0.626434 -0.161957    0.658448 -1.264215 -1.027909 -0.947909\n",
      "1    -0.160369  0.946457 -0.288605    1.002393 -1.162024 -0.269118 -0.848823\n",
      "2    -0.178482  1.202301 -0.178314    1.228487 -0.665042  0.520170 -0.726722\n",
      "3    -0.033493  1.307663 -0.223786    1.327096 -0.079809  0.055322 -0.604534\n",
      "4    -0.141067  1.322677 -0.641449    1.476764  0.456097 -0.186877 -0.441315\n",
      "\n",
      "      subject activity  trial\n",
      "time                         \n",
      "0          12      dws     11\n",
      "1          12      dws     11\n",
      "2          12      dws     11\n",
      "3          12      dws     11\n",
      "4          12      dws     11\n"
     ]
    }
   ],
   "source": [
    "\n",
    "# combine dfs and drop unnecessary columns\n",
    "df = df.drop(['attitude.roll', 'attitude.pitch', 'attitude.yaw', 'gravity.x', 'gravity.y', 'gravity.z', 'userAcceleration.x', 'userAcceleration.y', 'userAcceleration.z'], axis=1)\n",
    "df = df.rename(columns={'rotationRate.x': 'gyro_x', 'rotationRate.y': 'gyro_y', 'rotationRate.z': 'gyro_z'})\n",
    "\n",
    "df.head()\n",
    "\n",
    "df_X = df.iloc[:, :-3]\n",
    "df_y = df.iloc[:, -3:]\n",
    "\n",
    "print(df_X.head())\n",
    "print()\n",
    "print(df_y.head())"
   ]
  },
  {
   "cell_type": "markdown",
   "metadata": {},
   "source": [
    "### 1.3 Data Preprocessing"
   ]
  },
  {
   "cell_type": "markdown",
   "metadata": {},
   "source": [
    "##### 1.3.1 Data scaling"
   ]
  },
  {
   "cell_type": "code",
   "execution_count": 84,
   "metadata": {},
   "outputs": [],
   "source": [
    "from sklearn.preprocessing import MinMaxScaler, StandardScaler\n",
    "\n",
    "def minmax_scaling(df):\n",
    "    scaler = MinMaxScaler()\n",
    "    df_scaled = scaler.fit_transform(df)\n",
    "    return df_scaled\n",
    "\n",
    "def standard_scaling(df):\n",
    "    scaler = StandardScaler()\n",
    "    df_scaled = scaler.fit_transform(df)\n",
    "    return df_scaled"
   ]
  },
  {
   "cell_type": "markdown",
   "metadata": {},
   "source": [
    "##### 1.3.2 Graph the best number of components to use"
   ]
  },
  {
   "cell_type": "code",
   "execution_count": 85,
   "metadata": {},
   "outputs": [],
   "source": [
    "from sklearn.decomposition import PCA\n",
    "\n",
    "def pca_best_components(df):\n",
    "    X = df.iloc[:,:-3]\n",
    "    normalized_X = (X - X.mean()) / X.std()\n",
    "    # apply PCA\n",
    "    pca = PCA()\n",
    "    pca.fit(normalized_X)\n",
    "\n",
    "    explained_variance = pca.explained_variance_ratio_\n",
    "\n",
    "    # visualize explained variance\n",
    "    plt.figure(figsize=(10, 6))\n",
    "    plt.plot(np.cumsum(explained_variance))\n",
    "    plt.ylabel('Cumulative Explained variance')\n",
    "    plt.xlabel('Number of Components')\n",
    "    plt.title('Explained Variance by Principal Components')\n",
    "    plt.grid()\n",
    "    plt.show()\n",
    "\n",
    "    # find the number of components that explain 95% of the variance\n",
    "    cumsum = np.cumsum(explained_variance)\n",
    "    best_n_components = np.argmax(cumsum >= 0.95) + 1\n",
    "    print(\"Best number of components:\", best_n_components)\n",
    "    return best_n_components"
   ]
  },
  {
   "cell_type": "code",
   "execution_count": 86,
   "metadata": {},
   "outputs": [
    {
     "data": {
      "image/png": "[encoded data removed]",
      "text/plain": [
       "<Figure size 1000x600 with 1 Axes>"
      ]
     },
     "metadata": {},
     "output_type": "display_data"
    },
    {
     "name": "stdout",
     "output_type": "stream",
     "text": [
      "Best number of components: 6\n"
     ]
    }
   ],
   "source": [
    "best_n_c = pca_best_components(df)\n",
    "\n",
    "if best_n_c == len(df_X.columns):\n",
    "    print(\"PCA not needed\")"
   ]
  },
  {
   "cell_type": "markdown",
   "metadata": {},
   "source": [
    "#### 1.3.3 Simple Test train split"
   ]
  },
  {
   "cell_type": "code",
   "execution_count": 87,
   "metadata": {},
   "outputs": [],
   "source": [
    "train_df = df[(df.trial < 10)]\n",
    "test_df = df[(df.trial >= 10)]\n",
    "\n",
    "# all except last 3 cols (activity, subject, trial)\n",
    "X = train_df.iloc[:,:-3]\n",
    "y = train_df.activity"
   ]
  },
  {
   "cell_type": "markdown",
   "metadata": {},
   "source": [
    "### 1.3 Data Analysis"
   ]
  },
  {
   "cell_type": "markdown",
   "metadata": {},
   "source": [
    "1.3.1 Decision Tree"
   ]
  },
  {
   "cell_type": "code",
   "execution_count": 88,
   "metadata": {},
   "outputs": [
    {
     "data": {
      "text/html": [
       "<style>#sk-container-id-3 {color: black;}#sk-container-id-3 pre{padding: 0;}#sk-container-id-3 div.sk-toggleable {background-color: white;}#sk-container-id-3 label.sk-toggleable__label {cursor: pointer;display: block;width: 100%;margin-bottom: 0;padding: 0.3em;box-sizing: border-box;text-align: center;}#sk-container-id-3 label.sk-toggleable__label-arrow:before {content: \"▸\";float: left;margin-right: 0.25em;color: #696969;}#sk-container-id-3 label.sk-toggleable__label-arrow:hover:before {color: black;}#sk-container-id-3 div.sk-estimator:hover label.sk-toggleable__label-arrow:before {color: black;}#sk-container-id-3 div.sk-toggleable__content {max-height: 0;max-width: 0;overflow: hidden;text-align: left;background-color: #f0f8ff;}#sk-container-id-3 div.sk-toggleable__content pre {margin: 0.2em;color: black;border-radius: 0.25em;background-color: #f0f8ff;}#sk-container-id-3 input.sk-toggleable__control:checked~div.sk-toggleable__content {max-height: 200px;max-width: 100%;overflow: auto;}#sk-container-id-3 input.sk-toggleable__control:checked~label.sk-toggleable__label-arrow:before {content: \"▾\";}#sk-container-id-3 div.sk-estimator input.sk-toggleable__control:checked~label.sk-toggleable__label {background-color: #d4ebff;}#sk-container-id-3 div.sk-label input.sk-toggleable__control:checked~label.sk-toggleable__label {background-color: #d4ebff;}#sk-container-id-3 input.sk-hidden--visually {border: 0;clip: rect(1px 1px 1px 1px);clip: rect(1px, 1px, 1px, 1px);height: 1px;margin: -1px;overflow: hidden;padding: 0;position: absolute;width: 1px;}#sk-container-id-3 div.sk-estimator {font-family: monospace;background-color: #f0f8ff;border: 1px dotted black;border-radius: 0.25em;box-sizing: border-box;margin-bottom: 0.5em;}#sk-container-id-3 div.sk-estimator:hover {background-color: #d4ebff;}#sk-container-id-3 div.sk-parallel-item::after {content: \"\";width: 100%;border-bottom: 1px solid gray;flex-grow: 1;}#sk-container-id-3 div.sk-label:hover label.sk-toggleable__label {background-color: #d4ebff;}#sk-container-id-3 div.sk-serial::before {content: \"\";position: absolute;border-left: 1px solid gray;box-sizing: border-box;top: 0;bottom: 0;left: 50%;z-index: 0;}#sk-container-id-3 div.sk-serial {display: flex;flex-direction: column;align-items: center;background-color: white;padding-right: 0.2em;padding-left: 0.2em;position: relative;}#sk-container-id-3 div.sk-item {position: relative;z-index: 1;}#sk-container-id-3 div.sk-parallel {display: flex;align-items: stretch;justify-content: center;background-color: white;position: relative;}#sk-container-id-3 div.sk-item::before, #sk-container-id-3 div.sk-parallel-item::before {content: \"\";position: absolute;border-left: 1px solid gray;box-sizing: border-box;top: 0;bottom: 0;left: 50%;z-index: -1;}#sk-container-id-3 div.sk-parallel-item {display: flex;flex-direction: column;z-index: 1;position: relative;background-color: white;}#sk-container-id-3 div.sk-parallel-item:first-child::after {align-self: flex-end;width: 50%;}#sk-container-id-3 div.sk-parallel-item:last-child::after {align-self: flex-start;width: 50%;}#sk-container-id-3 div.sk-parallel-item:only-child::after {width: 0;}#sk-container-id-3 div.sk-dashed-wrapped {border: 1px dashed gray;margin: 0 0.4em 0.5em 0.4em;box-sizing: border-box;padding-bottom: 0.4em;background-color: white;}#sk-container-id-3 div.sk-label label {font-family: monospace;font-weight: bold;display: inline-block;line-height: 1.2em;}#sk-container-id-3 div.sk-label-container {text-align: center;}#sk-container-id-3 div.sk-container {/* jupyter's `normalize.less` sets `[hidden] { display: none; }` but bootstrap.min.css set `[hidden] { display: none !important; }` so we also need the `!important` here to be able to override the default hidden behavior on the sphinx rendered scikit-learn.org. See: https://github.com/scikit-learn/scikit-learn/issues/21755 */display: inline-block !important;position: relative;}#sk-container-id-3 div.sk-text-repr-fallback {display: none;}</style><div id=\"sk-container-id-3\" class=\"sk-top-container\"><div class=\"sk-text-repr-fallback\"><pre>DecisionTreeClassifier()</pre><b>In a Jupyter environment, please rerun this cell to show the HTML representation or trust the notebook. <br />On GitHub, the HTML representation is unable to render, please try loading this page with nbviewer.org.</b></div><div class=\"sk-container\" hidden><div class=\"sk-item\"><div class=\"sk-estimator sk-toggleable\"><input class=\"sk-toggleable__control sk-hidden--visually\" id=\"sk-estimator-id-3\" type=\"checkbox\" checked><label for=\"sk-estimator-id-3\" class=\"sk-toggleable__label sk-toggleable__label-arrow\">DecisionTreeClassifier</label><div class=\"sk-toggleable__content\"><pre>DecisionTreeClassifier()</pre></div></div></div></div></div>"
      ],
      "text/plain": [
       "DecisionTreeClassifier()"
      ]
     },
     "execution_count": 88,
     "metadata": {},
     "output_type": "execute_result"
    }
   ],
   "source": [
    "from sklearn.tree import DecisionTreeClassifier\n",
    "\n",
    "dtc = DecisionTreeClassifier()\n",
    "dtc.fit(X, y)"
   ]
  },
  {
   "cell_type": "code",
   "execution_count": 89,
   "metadata": {},
   "outputs": [],
   "source": [
    "def test_results(model, df, scaling_func=None):\n",
    "    correct = 0\n",
    "    total = 0\n",
    "\n",
    "    for i in activities:\n",
    "        k = df.iloc[:,:-3][(df.activity == i)]\n",
    "        if scaling_func:\n",
    "            k = scaling_func(k)\n",
    "        preds = model.predict(k)\n",
    "        print(i + ': ' + str(((preds == i).sum() / len(preds))*100) + '%')\n",
    "        correct += (preds == i).sum()\n",
    "        total += len(preds)\n",
    "    print('Total: ' + str((correct / total)*100) + '%')"
   ]
  },
  {
   "cell_type": "code",
   "execution_count": 90,
   "metadata": {},
   "outputs": [
    {
     "name": "stdout",
     "output_type": "stream",
     "text": [
      "dws: 39.51204337392232%\n",
      "ups: 43.03973722731979%\n",
      "sit: 99.08760000384169%\n",
      "std: 92.07459778706301%\n",
      "wlk: 58.26081627650448%\n",
      "jog: 58.343365436062065%\n",
      "Total: 76.86191799504554%\n"
     ]
    }
   ],
   "source": [
    "test_results(dtc, test_df)"
   ]
  },
  {
   "cell_type": "markdown",
   "metadata": {},
   "source": [
    "### 1.3.1.1 Decision Tree with scaling"
   ]
  },
  {
   "cell_type": "code",
   "execution_count": 93,
   "metadata": {},
   "outputs": [
    {
     "name": "stdout",
     "output_type": "stream",
     "text": [
      "dws: 7.8215269753799666%\n",
      "ups: 9.718304830590167%\n",
      "sit: 0.0%\n",
      "std: 0.0%\n",
      "wlk: 17.33821546758181%\n",
      "jog: 48.47512038523274%\n",
      "Total: 9.140996744302528%\n"
     ]
    }
   ],
   "source": [
    "dtc = DecisionTreeClassifier()\n",
    "X_scaled = minmax_scaling(X)\n",
    "dtc.fit(X_scaled, y)\n",
    "\n",
    "test_results(dtc, test_df, minmax_scaling)"
   ]
  },
  {
   "cell_type": "code",
   "execution_count": 94,
   "metadata": {},
   "outputs": [
    {
     "name": "stdout",
     "output_type": "stream",
     "text": [
      "dws: 31.752733090391967%\n",
      "ups: 29.968938555464312%\n",
      "sit: 13.720575100123893%\n",
      "std: 11.575645439952947%\n",
      "wlk: 53.597254565510475%\n",
      "jog: 18.395532370251473%\n",
      "Total: 24.065307058436602%\n"
     ]
    }
   ],
   "source": [
    "dtc = DecisionTreeClassifier()\n",
    "X_scaled = standard_scaling(X)\n",
    "dtc.fit(X_scaled, y)\n",
    "\n",
    "test_results(dtc, test_df, standard_scaling)"
   ]
  },
  {
   "cell_type": "markdown",
   "metadata": {},
   "source": [
    "### 2.2 Random Forest Classifier"
   ]
  },
  {
   "cell_type": "code",
   "execution_count": null,
   "metadata": {},
   "outputs": [],
   "source": [
    "from sklearn.ensemble import RandomForestClassifier\n",
    "\n",
    "rfc = RandomForestClassifier(n_estimators=10)\n",
    "rfc.fit(X, y)"
   ]
  },
  {
   "cell_type": "code",
   "execution_count": null,
   "metadata": {},
   "outputs": [
    {
     "name": "stdout",
     "output_type": "stream",
     "text": [
      "dws: 47.16469647142476%\n",
      "ups: 47.227676818165584%\n",
      "sit: 99.47080800222817%\n",
      "std: 93.58419820857482%\n",
      "wlk: 67.77484985905136%\n",
      "jog: 67.22177635098984%\n",
      "Total: 80.90242261306683%\n"
     ]
    }
   ],
   "source": [
    "test_results(rfc, test_df)"
   ]
  }
 ],
 "metadata": {
  "kernelspec": {
   "display_name": ".venv",
   "language": "python",
   "name": "python3"
  },
  "language_info": {
   "codemirror_mode": {
    "name": "ipython",
    "version": 3
   },
   "file_extension": ".py",
   "mimetype": "text/x-python",
   "name": "python",
   "nbconvert_exporter": "python",
   "pygments_lexer": "ipython3",
   "version": "3.11.4"
  }
 },
 "nbformat": 4,
 "nbformat_minor": 2
}
